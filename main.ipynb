{
 "cells": [
  {
   "cell_type": "code",
   "execution_count": 1,
   "metadata": {},
   "outputs": [],
   "source": [
    "from model import *"
   ]
  },
  {
   "cell_type": "code",
   "execution_count": null,
   "metadata": {},
   "outputs": [],
   "source": [
    "#Parameter initialization\n",
    "model = Trans_unet()\n",
    "        \n",
    "model_checkpoint = ModelCheckpoint('3D_TransU-Net.hdf5', monitor='val_loss',verbose=1, save_best_only=True)\n",
    "reduce_lr = ReduceLROnPlateau(monitor='val_loss', factor=0.1, patience=4, min_lr=0)\n",
    "callbacks_list = [model_checkpoint, reduce_lr]\n",
    "\n",
    "model.summary()"
   ]
  },
  {
   "cell_type": "code",
   "execution_count": null,
   "metadata": {},
   "outputs": [],
   "source": [
    "#Transfer learning\n",
    "for layer in model.layers[ :98]: \n",
    "    layer.trainable = False\n",
    "\n",
    "for i, layer in enumerate(model.layers):\n",
    "    print(i, layer.name, layer.trainable)\n",
    "\n",
    "model.compile(optimizer = Adam(), loss = MeanAbsoluteError())"
   ]
  },
  {
   "cell_type": "code",
   "execution_count": 3,
   "metadata": {},
   "outputs": [],
   "source": [
    "#Extract data (n, 128, 128, 8, 4)\n",
    "x_data_aug = np.load('x_data_aug.npy')\n",
    "y_data_nor_aug = np.load('y_data_nor_aug.npy')\n",
    "\n",
    "x_data_val = np.load('x_data_val.npy')\n",
    "y_data_val_nor = np.load('y_data_val_nor.npy')"
   ]
  },
  {
   "cell_type": "code",
   "execution_count": null,
   "metadata": {},
   "outputs": [],
   "source": [
    "history = model.fit(x_data_aug,\n",
    "                    y_data_nor_aug,\n",
    "                    validation_data = (x_data_val, y_data_val_nor),\n",
    "                    batch_size = 4,\n",
    "                    epochs = 50,\n",
    "                    verbose = 1,\n",
    "                    callbacks = callbacks_list,\n",
    "                    shuffle = True,\n",
    "                    steps_per_epoch = 250)"
   ]
  }
 ],
 "metadata": {
  "kernelspec": {
   "display_name": "keras_gpu",
   "language": "python",
   "name": "keras_gpu"
  },
  "language_info": {
   "codemirror_mode": {
    "name": "ipython",
    "version": 3
   },
   "file_extension": ".py",
   "mimetype": "text/x-python",
   "name": "python",
   "nbconvert_exporter": "python",
   "pygments_lexer": "ipython3",
   "version": "3.8.19"
  }
 },
 "nbformat": 4,
 "nbformat_minor": 2
}
